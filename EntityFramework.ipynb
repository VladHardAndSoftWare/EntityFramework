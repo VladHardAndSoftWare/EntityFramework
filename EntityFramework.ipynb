{
 "cells": [
  {
   "attachments": {},
   "cell_type": "markdown",
   "metadata": {},
   "source": [
    "https://metanit.com/sharp/efcore/1.1.php"
   ]
  },
  {
   "cell_type": "code",
   "execution_count": 1,
   "metadata": {
    "dotnet_interactive": {
     "language": "csharp"
    },
    "polyglot_notebook": {
     "kernelName": "csharp"
    }
   },
   "outputs": [
    {
     "data": {
      "text/html": [
       "<div><div></div><div></div><div><strong>Installed Packages</strong><ul><li><span>Microsoft.EntityFrameworkCore.Sqlite, 7.0.8</span></li></ul></div></div>"
      ]
     },
     "metadata": {},
     "output_type": "display_data"
    }
   ],
   "source": [
    "#r \"nuget:Microsoft.EntityFrameworkCore.Sqlite\"\n",
    "\n",
    "using Microsoft.EntityFrameworkCore.Sqlite;"
   ]
  },
  {
   "attachments": {},
   "cell_type": "markdown",
   "metadata": {},
   "source": [
    "Модель (Entity-сущность) базы данных"
   ]
  },
  {
   "cell_type": "code",
   "execution_count": 2,
   "metadata": {
    "dotnet_interactive": {
     "language": "csharp"
    },
    "polyglot_notebook": {
     "kernelName": "csharp"
    }
   },
   "outputs": [],
   "source": [
    "public class User\n",
    "{\n",
    "    public int Id { get; set; }\n",
    "    public string? Name { get; set; }\n",
    "    public int Age { get; set; }\n",
    "}"
   ]
  },
  {
   "attachments": {},
   "cell_type": "markdown",
   "metadata": {},
   "source": [
    "#### Строка для подключения (DBContext)"
   ]
  },
  {
   "cell_type": "code",
   "execution_count": 3,
   "metadata": {
    "dotnet_interactive": {
     "language": "csharp"
    },
    "polyglot_notebook": {
     "kernelName": "csharp"
    }
   },
   "outputs": [],
   "source": [
    "using Microsoft.EntityFrameworkCore;\n",
    "\n",
    "// DbContext: определяет контекст данных, используемый для взаимодействия с базой данных\n",
    "public class ApplicationContext : DbContext\n",
    "{\n",
    "    //DbSet - представляет набор объектов, которые хранятся в базе данных\n",
    "    public DbSet<User> Users => Set<User>();\n",
    "    public ApplicationContext() => Database.EnsureCreated(); // гарантируем, что БД создана либо создаем новую БД\n",
    " \n",
    "    // DbContextOptionsBuilder: устанавливает параметры подключения\n",
    "    protected override void OnConfiguring(DbContextOptionsBuilder optionsBuilder)\n",
    "    {\n",
    "        optionsBuilder.UseSqlite(\"Data Source=helloapp.db\");\n",
    "    }\n",
    "}"
   ]
  },
  {
   "attachments": {},
   "cell_type": "markdown",
   "metadata": {},
   "source": [
    "#### Добавляем записи в БД"
   ]
  },
  {
   "cell_type": "code",
   "execution_count": 4,
   "metadata": {
    "dotnet_interactive": {
     "language": "csharp"
    },
    "polyglot_notebook": {
     "kernelName": "csharp"
    }
   },
   "outputs": [
    {
     "name": "stdout",
     "output_type": "stream",
     "text": [
      "Объекты успешно сохранены\n",
      "Список объектов:\n",
      "1.Tom - 33\n",
      "2.Alice - 26\n",
      "3.Tom - 33\n",
      "4.Alice - 26\n",
      "5.Tom - 33\n",
      "6.Alice - 26\n",
      "7.Tom - 33\n",
      "8.Alice - 26\n",
      "9.Tom - 33\n",
      "10.Alice - 26\n",
      "11.Tom - 33\n",
      "12.Alice - 26\n",
      "13.Tom - 33\n",
      "14.Alice - 26\n"
     ]
    }
   ],
   "source": [
    "using (ApplicationContext db = new ApplicationContext())\n",
    "{\n",
    "    // создаем два объекта User\n",
    "    User tom = new User { Name = \"Tom\", Age = 33 };\n",
    "    User alice = new User { Name = \"Alice\", Age = 26 };\n",
    " \n",
    "    // добавляем их в бд\n",
    "    db.Users.Add(tom);\n",
    "    db.Users.Add(alice);\n",
    "    db.SaveChanges();\n",
    "    Console.WriteLine(\"Объекты успешно сохранены\");\n",
    " \n",
    "    // получаем объекты из бд и выводим на консоль\n",
    "    var users = db.Users.ToList();\n",
    "    Console.WriteLine(\"Список объектов:\");\n",
    "    foreach (User u in users)\n",
    "    {\n",
    "        Console.WriteLine($\"{u.Id}.{u.Name} - {u.Age}\");\n",
    "    }\n",
    "}"
   ]
  },
  {
   "attachments": {},
   "cell_type": "markdown",
   "metadata": {},
   "source": [
    "#### Reverse Engineering"
   ]
  },
  {
   "cell_type": "code",
   "execution_count": 5,
   "metadata": {
    "dotnet_interactive": {
     "language": "csharp"
    },
    "polyglot_notebook": {
     "kernelName": "csharp"
    }
   },
   "outputs": [
    {
     "data": {
      "text/html": [
       "<div><div></div><div></div><div><strong>Installed Packages</strong><ul><li><span>Microsoft.EntityFrameworkCore.Tools, 7.0.8</span></li></ul></div></div>"
      ]
     },
     "metadata": {},
     "output_type": "display_data"
    }
   ],
   "source": [
    "#r \"nuget:Microsoft.EntityFrameworkCore.Tools\"\n",
    "\n",
    "using Microsoft.EntityFrameworkCore.Tools;"
   ]
  },
  {
   "attachments": {},
   "cell_type": "markdown",
   "metadata": {},
   "source": [
    "dotnet ef dbcontext scaffold \"строка подключения\" провайдер_бд"
   ]
  },
  {
   "attachments": {},
   "cell_type": "markdown",
   "metadata": {},
   "source": [
    "Scaffold-DbContext \"Data Source=D:\\\\helloapp.db\" Microsoft.EntityFrameworkCore.Sqlite"
   ]
  },
  {
   "cell_type": "code",
   "execution_count": 15,
   "metadata": {
    "dotnet_interactive": {
     "language": "csharp"
    },
    "polyglot_notebook": {
     "kernelName": "csharp"
    }
   },
   "outputs": [
    {
     "ename": "Error",
     "evalue": "(1,1): error CS0006: Metadata file 'ef dbcontext scaffold 'Data Source=D:\\\\helloapp.db' Microsoft.EntityFrameworkCore.Sqlite' could not be found",
     "output_type": "error",
     "traceback": [
      "(1,1): error CS0006: Metadata file 'ef dbcontext scaffold 'Data Source=D:\\\\helloapp.db' Microsoft.EntityFrameworkCore.Sqlite' could not be found"
     ]
    }
   ],
   "source": [
    "dotnet ef dbcontext scaffold \"Data Source=D:\\\\helloapp.db\" Microsoft.EntityFrameworkCore.Sqlite"
   ]
  },
  {
   "attachments": {},
   "cell_type": "markdown",
   "metadata": {},
   "source": [
    "#### CRUD операции (Create, Read, Update, Delete)"
   ]
  },
  {
   "attachments": {},
   "cell_type": "markdown",
   "metadata": {},
   "source": [
    "Create"
   ]
  },
  {
   "cell_type": "code",
   "execution_count": 6,
   "metadata": {
    "dotnet_interactive": {
     "language": "csharp"
    },
    "polyglot_notebook": {
     "kernelName": "csharp"
    }
   },
   "outputs": [
    {
     "name": "stdout",
     "output_type": "stream",
     "text": [
      "Объекты успешно сохранены\r\n"
     ]
    }
   ],
   "source": [
    "using (ApplicationContext db = new ApplicationContext())\n",
    "{\n",
    "    User tom = new User { Name = \"Tom\", Age = 33 };\n",
    "    User alice = new User { Name = \"Alice\", Age = 26 };\n",
    " \n",
    "    // Добавление\n",
    "    db.Users.Add(tom);\n",
    "    db.Users.Add(alice);\n",
    "    db.SaveChanges();\n",
    "    Console.WriteLine(\"Объекты успешно сохранены\");\n",
    "}"
   ]
  },
  {
   "attachments": {},
   "cell_type": "markdown",
   "metadata": {},
   "source": [
    "Read"
   ]
  },
  {
   "cell_type": "code",
   "execution_count": 10,
   "metadata": {
    "dotnet_interactive": {
     "language": "csharp"
    },
    "polyglot_notebook": {
     "kernelName": "csharp"
    }
   },
   "outputs": [],
   "source": [
    "public void Read(){\n",
    "    using (ApplicationContext db = new ApplicationContext())\n",
    "    {\n",
    "        // получаем объекты из бд и выводим на консоль\n",
    "        var users = db.Users.ToList();\n",
    "        // выводим данные после обновления\n",
    "        Console.WriteLine(\"Данные после добавления:\");\n",
    "        foreach (User u in users)\n",
    "        {\n",
    "            Console.WriteLine($\"{u.Id}.{u.Name} - {u.Age}\");\n",
    "        }\n",
    "    }\n",
    "}\n",
    " "
   ]
  },
  {
   "attachments": {},
   "cell_type": "markdown",
   "metadata": {},
   "source": [
    "Update"
   ]
  },
  {
   "cell_type": "code",
   "execution_count": 11,
   "metadata": {
    "dotnet_interactive": {
     "language": "csharp"
    },
    "polyglot_notebook": {
     "kernelName": "csharp"
    }
   },
   "outputs": [
    {
     "name": "stdout",
     "output_type": "stream",
     "text": [
      "Данные после добавления:\n",
      "1.Bob - 44\n",
      "2.Alice - 26\n",
      "3.Tom - 33\n",
      "4.Alice - 26\n",
      "5.Tom - 33\n",
      "6.Alice - 26\n",
      "7.Tom - 33\n",
      "8.Alice - 26\n",
      "9.Tom - 33\n",
      "10.Alice - 26\n",
      "11.Tom - 33\n",
      "12.Alice - 26\n",
      "13.Tom - 33\n",
      "14.Alice - 26\n",
      "15.Tom - 33\n",
      "16.Alice - 26\n"
     ]
    }
   ],
   "source": [
    "using (ApplicationContext db = new ApplicationContext())\n",
    "{\n",
    "    // получаем первый объект\n",
    "    User? user = db.Users.FirstOrDefault();\n",
    "    if (user != null)\n",
    "    {\n",
    "        user.Name = \"Bob\";\n",
    "        user.Age = 44;\n",
    "        //обновляем объект\n",
    "        db.Users.Update(user);\n",
    "        db.SaveChanges();\n",
    "    }\n",
    "    \n",
    "    // выводим данные после обновления\n",
    "    Read();\n",
    "}"
   ]
  },
  {
   "attachments": {},
   "cell_type": "markdown",
   "metadata": {},
   "source": [
    "Delete"
   ]
  },
  {
   "cell_type": "code",
   "execution_count": 12,
   "metadata": {
    "dotnet_interactive": {
     "language": "csharp"
    },
    "polyglot_notebook": {
     "kernelName": "csharp"
    }
   },
   "outputs": [
    {
     "name": "stdout",
     "output_type": "stream",
     "text": [
      "Данные после добавления:\n",
      "2.Alice - 26\n",
      "3.Tom - 33\n",
      "4.Alice - 26\n",
      "5.Tom - 33\n",
      "6.Alice - 26\n",
      "7.Tom - 33\n",
      "8.Alice - 26\n",
      "9.Tom - 33\n",
      "10.Alice - 26\n",
      "11.Tom - 33\n",
      "12.Alice - 26\n",
      "13.Tom - 33\n",
      "14.Alice - 26\n",
      "15.Tom - 33\n",
      "16.Alice - 26\n"
     ]
    }
   ],
   "source": [
    "using (ApplicationContext db = new ApplicationContext())\n",
    "{\n",
    "    // получаем первый объект\n",
    "    User? user = db.Users.FirstOrDefault();\n",
    "    if (user != null)\n",
    "    {\n",
    "        //удаляем объект\n",
    "        db.Users.Remove(user);\n",
    "        db.SaveChanges();\n",
    "    }\n",
    "    // выводим данные после обновления\n",
    "    Read();\n",
    "}"
   ]
  },
  {
   "attachments": {},
   "cell_type": "markdown",
   "metadata": {},
   "source": [
    "#### Удаление БД"
   ]
  },
  {
   "cell_type": "code",
   "execution_count": 8,
   "metadata": {
    "dotnet_interactive": {
     "language": "csharp"
    },
    "polyglot_notebook": {
     "kernelName": "csharp"
    }
   },
   "outputs": [],
   "source": [
    "using Microsoft.EntityFrameworkCore;\n",
    " \n",
    "public class User\n",
    "{\n",
    "    public int Id { get; set; }\n",
    "    public string? Name { get; set; }\n",
    "}\n",
    "public class ApplicationContext : DbContext\n",
    "{\n",
    "    public DbSet<User> Users { get; set; } = null!;\n",
    " \n",
    "    public ApplicationContext()\n",
    "    {\n",
    "        Database.EnsureDeleted(); // гарантируем, что бд удалена\n",
    "        Database.EnsureCreated(); // гарантируем, что бд будет создана\n",
    "    }\n",
    "    protected override void OnConfiguring(DbContextOptionsBuilder optionsBuilder)\n",
    "    {\n",
    "        optionsBuilder.UseSqlite(\"Data Source=helloapp456.db\");\n",
    "    }\n",
    "}"
   ]
  },
  {
   "cell_type": "code",
   "execution_count": 9,
   "metadata": {
    "dotnet_interactive": {
     "language": "csharp"
    },
    "polyglot_notebook": {
     "kernelName": "csharp"
    }
   },
   "outputs": [],
   "source": [
    "using (ApplicationContext db = new ApplicationContext())\n",
    "{\n",
    "    db.Database.EnsureDeleted();\n",
    "    db.Database.EnsureCreated();\n",
    "    // асинхронная версия\n",
    "    await db.Database.EnsureCreatedAsync();\n",
    "    await db.Database.EnsureDeletedAsync();\n",
    "}"
   ]
  },
  {
   "attachments": {},
   "cell_type": "markdown",
   "metadata": {},
   "source": [
    "Доступность БД"
   ]
  },
  {
   "cell_type": "code",
   "execution_count": 10,
   "metadata": {
    "dotnet_interactive": {
     "language": "csharp"
    },
    "polyglot_notebook": {
     "kernelName": "csharp"
    }
   },
   "outputs": [
    {
     "name": "stdout",
     "output_type": "stream",
     "text": [
      "База данных доступна\r\n"
     ]
    }
   ],
   "source": [
    "using (ApplicationContext db = new ApplicationContext())\n",
    "{\n",
    "    bool isAvalaible = db.Database.CanConnect();\n",
    "    // bool isAvalaible2 = await db.Database.CanConnectAsync();\n",
    "    if (isAvalaible) Console.WriteLine(\"База данных доступна\");\n",
    "    else Console.WriteLine(\"База данных не доступна\");\n",
    "}"
   ]
  }
 ],
 "metadata": {
  "kernelspec": {
   "display_name": ".NET (C#)",
   "language": "C#",
   "name": ".net-csharp"
  },
  "language_info": {
   "name": "polyglot-notebook"
  },
  "polyglot_notebook": {
   "kernelInfo": {
    "defaultKernelName": "csharp",
    "items": [
     {
      "aliases": [],
      "languageName": "csharp",
      "name": "csharp"
     }
    ]
   }
  }
 },
 "nbformat": 4,
 "nbformat_minor": 2
}
